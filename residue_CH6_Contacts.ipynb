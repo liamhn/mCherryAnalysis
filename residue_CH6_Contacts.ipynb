{
 "cells": [
  {
   "cell_type": "code",
   "execution_count": 1,
   "id": "da079e7b",
   "metadata": {},
   "outputs": [],
   "source": [
    "from numpy import *\n",
    "import MDAnalysis as mda\n",
    "import MDAnalysis.analysis.distances\n",
    "from pylab import *\n",
    "style.use('seaborn-poster')\n",
    "import glob\n",
    "import scipy.stats"
   ]
  },
  {
   "cell_type": "code",
   "execution_count": 2,
   "id": "4c71e062",
   "metadata": {},
   "outputs": [],
   "source": [
    "EQPOINT=250\n",
    "\n",
    "\n",
    "h2opath=\"data/water/solvent_included/\"\n",
    "pegpath=\"data/peg/solvent_included/\"\n",
    "\n",
    "#glob tprs\n",
    "h2ogros=glob.glob(h2opath+\"*.gro\")\n",
    "peggros=glob.glob(pegpath+\"*.gro\")\n",
    "\n",
    "#glob tprs\n",
    "h2otprs=glob.glob(h2opath+\"*.tpr\")\n",
    "pegtprs=glob.glob(pegpath+\"*.tpr\")\n",
    "\n",
    "#trjs\n",
    "h2otrjs=glob.glob(h2opath+\"*.xtc\")\n",
    "pegtrjs=glob.glob(pegpath+\"*.xtc\")\n",
    "\n",
    "systemtprs=[h2otprs,pegtprs]\n",
    "systemtrjs=[h2otrjs,pegtrjs]\n",
    "\n",
    "\n",
    "\n",
    "resids_proper=list(arange(-4,67))+list(arange(69,238))\n",
    "resids=list(arange(-4,67))+[nan,nan]+list(arange(69,238))#get universes \n",
    "h2ou=[]\n",
    "pegu=[]\n",
    "\n",
    "for i in range(len(h2ogros)):\n",
    "    h2ou.append(mda.Universe(h2otprs[i],h2otrjs[i]))\n",
    "    #fix resids immediately\n",
    "    h2ou[i].select_atoms(\"protein or resname CH6\").residues.resids = resids_proper\n",
    "for i in range(len(peggros)):\n",
    "    pegu.append(mda.Universe(pegtprs[i],pegtrjs[i]))\n",
    "    #fix resids immediately\n",
    "    pegu[i].select_atoms(\"protein or resname CH6\").residues.resids = resids_proper\n",
    "    \n",
    "    \n",
    "#compile all the systems in one list\n",
    "systems = [h2ou,pegu]\n",
    "system_names = ['No-PEG','PEG']\n",
    "#[]\n",
    "#[tol-darkgreen,tol-darkblue,tol-bottompurple]\n",
    "twoColour=[\"#0A732D\",\"#332288\"]\n",
    "# Dark green,    \n",
    "#sixColor=['#0A732D','#332288','#88CCEE',\"#44AA99\",'#882255','#D250BC']\n",
    "#colorScheme=sixColor\n",
    "colourScheme = twoColour\n",
    "# Let's set up the selections for each trajectory by chain\n",
    "\n",
    "# i want to make a list that has the sh2 domains selected in each sublist so that each one has 6 selections.\n",
    "h2ou_fullprotein=[]\n",
    "pegu_fullprotein=[]\n",
    "\n",
    "h2ou_fullprotein_string=[]\n",
    "pegu_fullprotein_string=[]\n",
    "\n",
    "\n",
    "h2ou_notail=[]\n",
    "pegu_notail=[]\n",
    "\n",
    "\n",
    "h2ou_notail_string=[]\n",
    "pegu_notail_string=[]\n",
    "\n",
    "\n",
    "for i in range(len(h2otrjs)):\n",
    "    h2ou_notail.append(h2ou[i].select_atoms(\"(protein or resname CH6) and resid 1:228\"))\n",
    "    h2ou_notail_string.append(\"(protein or resname CH6) and resid 1:228\")\n",
    "    h2ou_fullprotein.append(h2ou[i].select_atoms(\"(protein or resname CH6)\"))\n",
    "    h2ou_fullprotein_string.append(\"(protein or resname CH6)\")\n",
    "    \n",
    "for i in range(len(pegtrjs)):\n",
    "    pegu_notail.append(pegu[i].select_atoms(\"(protein or resname CH6) and resid 1:228\"))\n",
    "    pegu_notail_string.append(\"(protein or resname CH6) and resid 1:228\")\n",
    "    pegu_fullprotein.append(pegu[i].select_atoms(\"(protein or resname CH6)\"))\n",
    "    pegu_fullprotein_string.append(\"(protein or resname CH6)\")\n",
    "\n",
    "fullprotein_selections=[h2ou_fullprotein,pegu_fullprotein]\n",
    "fullprotein_selections_string=[h2ou_fullprotein_string,pegu_fullprotein_string]\n",
    "notail_selections = [h2ou_notail,pegu_notail]\n",
    "notail_selections_string = [h2ou_notail_string,pegu_notail_string]\n",
    "\n",
    "\n",
    "\n",
    "\n",
    "    "
   ]
  },
  {
   "cell_type": "code",
   "execution_count": 3,
   "id": "e9a0d7bc",
   "metadata": {},
   "outputs": [],
   "source": [
    "all_residues_by_timestep=[]        \n",
    "for i in range(len(systems)):\n",
    "    sub = []\n",
    "    for j in range(len(systems[i])):\n",
    "        u=systems[i][j]\n",
    "        residues_by_timestep=[]\n",
    "        for t in range(len(u.trajectory)):\n",
    "            u.trajectory[t]\n",
    "            contacts1=u.select_atoms(\"protein and byres (around 3.5 (resname CH6))\",updating = True)# and index 1092:1104))\",updating=True)\n",
    "\n",
    "            #append the contacts made by pY residue in both chains (and map to uniprot resids)\n",
    "            \n",
    "            for n in range(len(contacts1.residues.resids)):\n",
    "                residues_by_timestep.append(contacts1.residues.resids[n])\n",
    "        sub.append(residues_by_timestep)\n",
    "    all_residues_by_timestep.append(sub)\n",
    "    "
   ]
  },
  {
   "cell_type": "code",
   "execution_count": 11,
   "id": "5b69cbc8",
   "metadata": {},
   "outputs": [
    {
     "data": {
      "image/png": "[encoded data removed]",
      "text/plain": [
       "<Figure size 432x288 with 1 Axes>"
      ]
     },
     "metadata": {
      "needs_background": "light"
     },
     "output_type": "display_data"
    }
   ],
   "source": [
    "# Let's get uncertainty estimates by getting the hist for each one and taking the SEM\n",
    "all_hist_y=[]\n",
    "all_hist_x=[]\n",
    "\n",
    "for i in range(len(all_residues_by_timestep)):\n",
    "    subx=[]\n",
    "    suby=[]\n",
    "    for j in range(len(all_residues_by_timestep[i])):\n",
    "        suby.append(hist(all_residues_by_timestep[i][j],bins = arange(-4.5,238.5,1))[0]/len(systems[i][j].trajectory))\n",
    "        subx.append(hist(all_residues_by_timestep[i][j],bins = arange(-4.5,238.5,1)-.5)[1])\n",
    "        #cla()\n",
    "    all_hist_x.append(subx)\n",
    "    all_hist_y.append(suby)\n",
    "    \n",
    "# Now average over them and also compute the sem\n",
    "\n",
    "system_avg_hist_y = []\n",
    "system_sem_hist_y = []\n",
    "\n",
    "for i in range(len(all_hist_y)):\n",
    "    system_avg_hist_y.append(mean(all_hist_y[i],axis = 0))\n",
    "    system_sem_hist_y.append(scipy.stats.sem(all_hist_y[i],axis = 0))\n"
   ]
  },
  {
   "cell_type": "code",
   "execution_count": 12,
   "id": "10eea912",
   "metadata": {},
   "outputs": [
    {
     "data": {
      "text/plain": [
       "Text(0.5, 1.0, 'Residue Contact Propensity Difference: PEG - H2O (significant only)')"
      ]
     },
     "execution_count": 12,
     "metadata": {},
     "output_type": "execute_result"
    },
    {
     "data": {
      "image/png": "[encoded data removed]",
      "text/plain": [
       "<Figure size 1152x720 with 1 Axes>"
      ]
     },
     "metadata": {
      "needs_background": "light"
     },
     "output_type": "display_data"
    }
   ],
   "source": [
    "avgDiffBars = (system_avg_hist_y[1] - system_avg_hist_y[0])\n",
    "semDiffBars = sqrt(system_sem_hist_y[1]**2 + system_sem_hist_y[0]**2)\n",
    "colors =[]\n",
    "\n",
    "for i in range(len(avgDiffBars)):\n",
    "    if avgDiffBars[i] > 0:\n",
    "        colors.append([1.,1-(avgDiffBars[i]/max(abs(avgDiffBars))),1-(avgDiffBars[i]/max(abs(avgDiffBars)))])\n",
    "    if avgDiffBars[i] <=0:\n",
    "        colors.append([1-(-avgDiffBars[i]/max(abs(avgDiffBars))),1-(-avgDiffBars[i]/max(abs(avgDiffBars))),1.])\n",
    "        \n",
    "# get significant only\n",
    "avgSignifBars=copy(avgDiffBars)\n",
    "semSignifBars=copy(semDiffBars)\n",
    "for i in range(len(avgDiffBars)):\n",
    "    \n",
    "    if abs(semDiffBars[i]) > abs(avgDiffBars[i]):\n",
    "        avgSignifBars[i] = 0\n",
    "        semSignifBars[i] = 0        \n",
    "        \n",
    "figure(figsize = (16,10))\n",
    "\n",
    "bar(all_hist_x[0][0][:-1]+.5,avgSignifBars,color = colors,edgecolor= 'black')\n",
    "errorbar(all_hist_x[0][0][:-1]+.5,avgSignifBars,semSignifBars,fmt=\".\",markersize = 0.01,linewidth = 1, color = \"black\")\n",
    "xlabel(\"Residue ID\")\n",
    "ylabel(\"Propensity Difference\")\n",
    "title(\"Residue Contact Propensity Difference: PEG - H2O (significant only)\") \n"
   ]
  },
  {
   "cell_type": "code",
   "execution_count": null,
   "id": "2e9f8b52",
   "metadata": {},
   "outputs": [],
   "source": []
  },
  {
   "cell_type": "code",
   "execution_count": null,
   "id": "95da0550",
   "metadata": {},
   "outputs": [],
   "source": []
  },
  {
   "cell_type": "code",
   "execution_count": null,
   "id": "8a9b9b52",
   "metadata": {},
   "outputs": [],
   "source": []
  },
  {
   "cell_type": "code",
   "execution_count": null,
   "id": "63451464",
   "metadata": {},
   "outputs": [],
   "source": []
  },
  {
   "cell_type": "code",
   "execution_count": 6,
   "id": "6b3d25ea",
   "metadata": {},
   "outputs": [],
   "source": []
  },
  {
   "cell_type": "code",
   "execution_count": null,
   "id": "5f7193b3",
   "metadata": {},
   "outputs": [],
   "source": []
  },
  {
   "cell_type": "code",
   "execution_count": null,
   "id": "30b8a93a",
   "metadata": {},
   "outputs": [],
   "source": []
  },
  {
   "cell_type": "code",
   "execution_count": null,
   "id": "349f1e6e",
   "metadata": {},
   "outputs": [],
   "source": []
  }
 ],
 "metadata": {
  "kernelspec": {
   "display_name": "mdaenv",
   "language": "python",
   "name": "mdaenv"
  },
  "language_info": {
   "codemirror_mode": {
    "name": "ipython",
    "version": 3
   },
   "file_extension": ".py",
   "mimetype": "text/x-python",
   "name": "python",
   "nbconvert_exporter": "python",
   "pygments_lexer": "ipython3",
   "version": "3.10.5"
  }
 },
 "nbformat": 4,
 "nbformat_minor": 5
}
