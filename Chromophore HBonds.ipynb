{
 "cells": [
  {
   "cell_type": "code",
   "execution_count": 1,
   "id": "e5b2b275",
   "metadata": {},
   "outputs": [],
   "source": [
    "import MDAnalysis as mda\n",
    "from numpy import *\n",
    "import os\n",
    "from pylab import *\n",
    "import MDAnalysis.analysis.distances\n",
    "import MDAnalysis.analysis.rms\n",
    "from MDAnalysis.analysis import align\n",
    "import glob\n",
    "#import umap\n",
    "import scipy.stats\n",
    "import sklearn\n",
    "import sklearn.decomposition\n",
    "import sklearn.preprocessing\n",
    "import mdtraj\n",
    "import pandas as pd\n",
    "import seaborn as sns\n",
    "from MDAnalysis.analysis.hydrogenbonds.hbond_analysis import HydrogenBondAnalysis as HBA"
   ]
  },
  {
   "cell_type": "code",
   "execution_count": 2,
   "id": "ff25f4be",
   "metadata": {},
   "outputs": [],
   "source": [
    "EQPOINT=250\n",
    "\n",
    "\n",
    "\n",
    "h2opath=\"data/water/solvent_included/\"\n",
    "pegpath=\"data/peg/solvent_included/\"\n",
    "\n",
    "#glob tprs\n",
    "h2ogros=glob.glob(h2opath+\"*.gro\")\n",
    "peggros=glob.glob(pegpath+\"*.gro\")\n",
    "\n",
    "#glob tprs\n",
    "h2otprs=glob.glob(h2opath+\"*.tpr\")\n",
    "pegtprs=glob.glob(pegpath+\"*.tpr\")\n",
    "\n",
    "#trjs\n",
    "h2otrjs=glob.glob(h2opath+\"*.xtc\")\n",
    "pegtrjs=glob.glob(pegpath+\"*.xtc\")\n",
    "\n",
    "systemtprs=[h2otprs,pegtprs]\n",
    "systemtrjs=[h2otrjs,pegtrjs]\n",
    "\n",
    "\n",
    "\n",
    "resids_proper=list(arange(-4,67))+list(arange(69,238))\n",
    "resids=list(arange(-4,67))+[nan,nan]+list(arange(69,238))\n",
    "#get universes \n",
    "h2ou=[]\n",
    "pegu=[]\n",
    "\n",
    "for i in range(len(h2ogros)):\n",
    "    h2ou.append(mda.Universe(h2otprs[i],h2otrjs[i]))\n",
    "    #fix resids immediately\n",
    "    h2ou[i].select_atoms(\"protein or resname CH6\").residues.resids = resids_proper\n",
    "for i in range(len(peggros)):\n",
    "    pegu.append(mda.Universe(pegtprs[i],pegtrjs[i]))\n",
    "    #fix resids immediately\n",
    "    pegu[i].select_atoms(\"protein or resname CH6\").residues.resids = resids_proper\n",
    "    \n",
    "    \n",
    "#compile all the systems in one list\n",
    "systems = [h2ou,pegu]\n",
    "system_names = ['No-PEG','PEG']\n",
    "#[]\n",
    "#[tol-darkgreen,tol-darkblue,tol-bottompurple]\n",
    "twoColour=[\"#332288\",\"#882255\"]\n",
    "# Dark green,    \n",
    "#sixColor=['#0A732D','#332288','#88CCEE',\"#44AA99\",'#882255','#D250BC']\n",
    "#colorScheme=sixColor\n",
    "colourScheme = twoColour\n",
    "# Let's set up the selections for each trajectory by chain\n",
    "\n",
    "# i want to make a list that has the sh2 domains selected in each sublist so that each one has 6 selections.\n",
    "h2ou_fullprotein=[]\n",
    "pegu_fullprotein=[]\n",
    "\n",
    "h2ou_fullprotein_string=[]\n",
    "pegu_fullprotein_string=[]\n",
    "\n",
    "\n",
    "h2ou_notail=[]\n",
    "pegu_notail=[]\n",
    "\n",
    "\n",
    "h2ou_notail_string=[]\n",
    "pegu_notail_string=[]\n",
    "\n",
    "\n",
    "for i in range(len(h2otrjs)):\n",
    "    h2ou_notail.append(h2ou[i].select_atoms(\"(protein or resname CH6) and resid 1:228\"))\n",
    "    h2ou_notail_string.append(\"(protein or resname CH6) and resid 1:228\")\n",
    "    h2ou_fullprotein.append(h2ou[i].select_atoms(\"(protein or resname CH6)\"))\n",
    "    h2ou_fullprotein_string.append(\"(protein or resname CH6)\")\n",
    "    \n",
    "for i in range(len(pegtrjs)):\n",
    "    pegu_notail.append(pegu[i].select_atoms(\"(protein or resname CH6) and resid 1:228\"))\n",
    "    pegu_notail_string.append(\"(protein or resname CH6) and resid 1:228\")\n",
    "    pegu_fullprotein.append(pegu[i].select_atoms(\"(protein or resname CH6)\"))\n",
    "    pegu_fullprotein_string.append(\"(protein or resname CH6)\")\n",
    "\n",
    "fullprotein_selections=[h2ou_fullprotein,pegu_fullprotein]\n",
    "fullprotein_selections_string=[h2ou_fullprotein_string,pegu_fullprotein_string]\n",
    "notail_selections = [h2ou_notail,pegu_notail]\n",
    "notail_selections_string = [h2ou_notail_string,pegu_notail_string]\n",
    "\n"
   ]
  },
  {
   "cell_type": "code",
   "execution_count": 3,
   "id": "ef61920e",
   "metadata": {},
   "outputs": [],
   "source": [
    "def getHBondDataFrame(tpr,trj,systemname=None,trajectorynumber=None):\n",
    "    u=mda.Universe(tpr,trj,updating = True)\n",
    "    p=u.select_atoms(\"protein or resname CH6\") #need to explicitly include non standard residue names in this statement\n",
    "    p.residues.resids = resids_proper\n",
    "\n",
    "    hba1=HBA(u,between = [\"resname CH6\",\"protein or resname CH6\"],d_a_cutoff =3.5)\n",
    "\n",
    "    hba1.hydrogens_sel = hba1.guess_hydrogens(\"all\")\n",
    "    hba1.acceptors_sel = hba1.guess_acceptors(\"all\") #DO NOT GUESS DONORS IF YOU HAVE BOND INFORMATION (we do)\n",
    "\n",
    "    results=hba1.run()\n",
    "    df = pd.DataFrame(results.hbonds,columns=[\"frame\",\"donorid\",\"hid\",\"acceptorid\",\"distance\",\"angle\"])\n",
    "\n",
    "    premap=[]\n",
    "    for i in range(len(u.select_atoms(\"all\").atoms)):\n",
    "        premap.append((u.select_atoms(\"all\").atoms.ids[i],u.select_atoms(\"all\").atoms[i].residue.resid))\n",
    "    residmap = dict(premap)\n",
    "    \n",
    "    premap=[]\n",
    "    for i in range(len(u.select_atoms(\"all\").atoms)):\n",
    "        premap.append((u.select_atoms(\"all\").atoms.ids[i],u.select_atoms(\"all\").atoms[i].residue.resname))\n",
    "    resnamemap = dict(premap)\n",
    "\n",
    "    df[\"donor_resid\"]=df[\"donorid\"].apply(residmap.get)\n",
    "    df[\"acceptor_resid\"]=df[\"acceptorid\"].apply(residmap.get)\n",
    "    df[\"donor-acceptor\"]=df[\"donor_resid\"].astype(str)+\"-\"+df[\"acceptor_resid\"].astype(str)\n",
    "\n",
    "    df[\"acceptor_atomname\"]=u.atoms.names[df.acceptorid.values.astype(int)]\n",
    "    df[\"donor_atomname\"]=u.atoms.names[df.donorid.values.astype(int)]\n",
    "    df[\"h_atomname\"]=u.atoms.names[df.hid.values.astype(int)]\n",
    "\n",
    "    df[\"acceptor_resname\"]=df[\"acceptorid\"].apply(resnamemap.get)\n",
    "    df[\"donor_resname\"]=df[\"donorid\"].apply(resnamemap.get)\n",
    "\n",
    "\n",
    "\n",
    "    #Construct sets of atom ids bound to the donor and acceptor,\n",
    "    #this will be used for coulomb energy  hbond energy calculation\n",
    "    donorsets=[]\n",
    "    acceptorsets=[]\n",
    "    donorcharges=[]\n",
    "    acceptorcharges=[]\n",
    "    donorpositions=[]\n",
    "    acceptorpositions=[]\n",
    "    hbondenergies=[]\n",
    "    for i in range(len(df)):\n",
    "        # basically, it takes the donor hydrogen id, finds its bonds, \n",
    "        # gets all the atoms in the bonds (which should just be the donor and the hydrogen), then shows only unique IDs\n",
    "        donorset=list(set(list(u.atoms[int(df.hid[i])].bonds.to_indices().flatten())))\n",
    "        acceptorset=list(set(list(u.atoms[int(df.acceptorid[i])].bonds.to_indices().flatten())))\n",
    "\n",
    "        donorcharge = u.atoms[donorset].charges\n",
    "        acceptorcharge = u.atoms[acceptorset].charges\n",
    "\n",
    "        donorpos = u.atoms[donorset].positions\n",
    "        acceptorpos = u.atoms[acceptorset].positions\n",
    "\n",
    "        donorsets.append(donorset)\n",
    "        acceptorsets.append(acceptorset)\n",
    "        donorcharges.append(donorcharge)\n",
    "        acceptorcharges.append(acceptorcharge)\n",
    "        donorpositions.append(donorpos)\n",
    "        acceptorpositions.append(acceptorpos)\n",
    "\n",
    "        hbondenergies.append(computeHydrogenBondEnergy(donorcharge,acceptorcharge,donorpos,acceptorpos,f=332))\n",
    "\n",
    "    df[\"donorsets\"] = donorsets\n",
    "    df[\"donorcharges\"] = donorcharges\n",
    "    df[\"acceptorsets\"] = acceptorsets\n",
    "    df[\"acceptorcharges\"] = acceptorcharges\n",
    "    df[\"donorpositions\"] = donorpositions\n",
    "    df[\"acceptorpositions\"] = acceptorpositions\n",
    "    df[\"hbondenergies\"] = hbondenergies\n",
    "\n",
    "    return df\n",
    "\n",
    "def computeHydrogenBondEnergy(donorcharge,acceptorcharge,donorpos,acceptorpos,f=332):\n",
    "    E=0\n",
    "    for i in range(len(donorcharge)):\n",
    "        for j in range(len(acceptorcharge)):\n",
    "            displacement = donorpos[i] - acceptorpos[j]\n",
    "            r = sqrt(dot(displacement,displacement))\n",
    "            E+=f*donorcharge[i]*acceptorcharge[j]/r\n",
    "    return E"
   ]
  },
  {
   "cell_type": "code",
   "execution_count": 4,
   "id": "8e8b565a",
   "metadata": {},
   "outputs": [
    {
     "name": "stderr",
     "output_type": "stream",
     "text": [
      "/home/liam/.local/lib/python3.10/site-packages/MDAnalysis/analysis/hydrogenbonds/hbond_analysis.py:672: DeprecationWarning: The `hbonds` attribute was deprecated in MDAnalysis 2.0.0 and will be removed in MDAnalysis 3.0.0. Please use `results.hbonds` instead.\n",
      "  warnings.warn(wmsg, DeprecationWarning)\n",
      "/home/liam/.local/lib/python3.10/site-packages/MDAnalysis/analysis/hydrogenbonds/hbond_analysis.py:672: DeprecationWarning: The `hbonds` attribute was deprecated in MDAnalysis 2.0.0 and will be removed in MDAnalysis 3.0.0. Please use `results.hbonds` instead.\n",
      "  warnings.warn(wmsg, DeprecationWarning)\n",
      "/home/liam/.local/lib/python3.10/site-packages/MDAnalysis/analysis/hydrogenbonds/hbond_analysis.py:672: DeprecationWarning: The `hbonds` attribute was deprecated in MDAnalysis 2.0.0 and will be removed in MDAnalysis 3.0.0. Please use `results.hbonds` instead.\n",
      "  warnings.warn(wmsg, DeprecationWarning)\n",
      "/home/liam/.local/lib/python3.10/site-packages/MDAnalysis/analysis/hydrogenbonds/hbond_analysis.py:672: DeprecationWarning: The `hbonds` attribute was deprecated in MDAnalysis 2.0.0 and will be removed in MDAnalysis 3.0.0. Please use `results.hbonds` instead.\n",
      "  warnings.warn(wmsg, DeprecationWarning)\n",
      "/home/liam/.local/lib/python3.10/site-packages/MDAnalysis/analysis/hydrogenbonds/hbond_analysis.py:672: DeprecationWarning: The `hbonds` attribute was deprecated in MDAnalysis 2.0.0 and will be removed in MDAnalysis 3.0.0. Please use `results.hbonds` instead.\n",
      "  warnings.warn(wmsg, DeprecationWarning)\n",
      "/home/liam/.local/lib/python3.10/site-packages/MDAnalysis/analysis/hydrogenbonds/hbond_analysis.py:672: DeprecationWarning: The `hbonds` attribute was deprecated in MDAnalysis 2.0.0 and will be removed in MDAnalysis 3.0.0. Please use `results.hbonds` instead.\n",
      "  warnings.warn(wmsg, DeprecationWarning)\n",
      "/home/liam/.local/lib/python3.10/site-packages/MDAnalysis/analysis/hydrogenbonds/hbond_analysis.py:672: DeprecationWarning: The `hbonds` attribute was deprecated in MDAnalysis 2.0.0 and will be removed in MDAnalysis 3.0.0. Please use `results.hbonds` instead.\n",
      "  warnings.warn(wmsg, DeprecationWarning)\n",
      "/home/liam/.local/lib/python3.10/site-packages/MDAnalysis/analysis/hydrogenbonds/hbond_analysis.py:672: DeprecationWarning: The `hbonds` attribute was deprecated in MDAnalysis 2.0.0 and will be removed in MDAnalysis 3.0.0. Please use `results.hbonds` instead.\n",
      "  warnings.warn(wmsg, DeprecationWarning)\n",
      "/home/liam/.local/lib/python3.10/site-packages/MDAnalysis/analysis/hydrogenbonds/hbond_analysis.py:672: DeprecationWarning: The `hbonds` attribute was deprecated in MDAnalysis 2.0.0 and will be removed in MDAnalysis 3.0.0. Please use `results.hbonds` instead.\n",
      "  warnings.warn(wmsg, DeprecationWarning)\n",
      "/home/liam/.local/lib/python3.10/site-packages/MDAnalysis/analysis/hydrogenbonds/hbond_analysis.py:672: DeprecationWarning: The `hbonds` attribute was deprecated in MDAnalysis 2.0.0 and will be removed in MDAnalysis 3.0.0. Please use `results.hbonds` instead.\n",
      "  warnings.warn(wmsg, DeprecationWarning)\n"
     ]
    }
   ],
   "source": [
    "hbondDFs=[]\n",
    "\n",
    "\n",
    "# The first time\n",
    "\n",
    "for i in range(len(systemtprs)):\n",
    "    subdfs=[]\n",
    "    for j in range(len(systemtprs[i])):\n",
    "        subdfs.append(getHBondDataFrame(systemtprs[i][j],systemtrjs[i][j],systemname=system_names[i],trajectorynumber=j+1))\n",
    "    hbondDFs.append(subdfs)\n",
    "\n"
   ]
  },
  {
   "cell_type": "code",
   "execution_count": 122,
   "id": "dfb44689",
   "metadata": {},
   "outputs": [
    {
     "data": {
      "image/png": "[encoded data removed]",
      "text/plain": [
       "<Figure size 432x288 with 1 Axes>"
      ]
     },
     "metadata": {
      "needs_background": "light"
     },
     "output_type": "display_data"
    }
   ],
   "source": [
    "all_ch6_hb_propensities=[]\n",
    "\n",
    "for i in range(len(hbondDFs)):\n",
    "    sub=[]\n",
    "    for j in range(len(hbondDFs[i])):\n",
    "\n",
    "        tdf = hbondDFs[i][j]\n",
    "        a=hist(tdf.donor_resid[tdf.frame > 250],bins = arange(-4.5,238.5,1))\n",
    "        countbyRes = a[0]\n",
    "        propensitybyRes = a[0]/(1000-EQPOINT)\n",
    "        \n",
    "        sub.append(propensitybyRes)\n",
    "    all_ch6_hb_propensities.append(sub)"
   ]
  },
  {
   "cell_type": "code",
   "execution_count": 123,
   "id": "762daf7d",
   "metadata": {},
   "outputs": [],
   "source": [
    "system_avg_ch6_hb_propensities=[]\n",
    "system_sem_ch6_hb_propensities=[]\n",
    "\n",
    "for i in range(len(all_ch6_hb_propensities)):\n",
    "    system_avg_ch6_hb_propensities.append(mean(all_ch6_hb_propensities[i],axis = 0))\n",
    "    system_sem_ch6_hb_propensities.append(scipy.stats.sem(all_ch6_hb_propensities[i],axis = 0))\n"
   ]
  },
  {
   "cell_type": "code",
   "execution_count": 124,
   "id": "3605bc4a",
   "metadata": {},
   "outputs": [
    {
     "data": {
      "image/png": "[encoded data removed]",
      "text/plain": [
       "<Figure size 1152x720 with 1 Axes>"
      ]
     },
     "metadata": {
      "needs_background": "light"
     },
     "output_type": "display_data"
    }
   ],
   "source": [
    "figure(figsize = (16,10))\n",
    "\n",
    "bar(arange(-4.5,238.5,1)[:-1]+.5,system_avg_ch6_hb_propensities[0],color = colourScheme[0],alpha = 0.7)\n",
    "bar(arange(-4.5,238.5,1)[:-1]+.5,system_avg_ch6_hb_propensities[1],color = colourScheme[1],alpha = 0.7)\n",
    "errorbar(arange(-4.5,238.5,1)[:-1]+.5,system_avg_ch6_hb_propensities[0],system_sem_ch6_hb_propensities[0],fmt=\".\",markersize = 0.01,linewidth = .3, color = \"black\")\n",
    "errorbar(arange(-4.5,238.5,1)[:-1]+.5,system_avg_ch6_hb_propensities[1],system_sem_ch6_hb_propensities[1],fmt=\".\",markersize = 0.01,linewidth = .3, color = \"black\")\n",
    "xlabel(\"Residue ID\",fontsize = 25)\n",
    "ylabel(\"Propensity\",fontsize = 25)\n",
    "title(\"CH6-Protein Hydrogen Bonds\",fontsize = 25) \n",
    "asdfaskufhvkasduf = xticks(fontsize = 25)\n",
    "lkfahuksjrhfawkjh = yticks(fontsize = 25)\n",
    "\n"
   ]
  },
  {
   "cell_type": "code",
   "execution_count": 127,
   "id": "20a54b19",
   "metadata": {},
   "outputs": [],
   "source": [
    "save(\"all_ch6_hbond_propensities.npy\",all_ch6_hb_propensities)"
   ]
  },
  {
   "cell_type": "code",
   "execution_count": null,
   "id": "1c62a8e9",
   "metadata": {},
   "outputs": [],
   "source": []
  },
  {
   "cell_type": "code",
   "execution_count": 126,
   "id": "9fa33264",
   "metadata": {},
   "outputs": [
    {
     "data": {
      "text/plain": [
       "Text(0.5, 1.0, 'Number of Atoms in Contact Propensity Difference: PEG - H2O (significant only)')"
      ]
     },
     "execution_count": 126,
     "metadata": {},
     "output_type": "execute_result"
    },
    {
     "data": {
      "image/png": "[encoded data removed]",
      "text/plain": [
       "<Figure size 1152x720 with 1 Axes>"
      ]
     },
     "metadata": {
      "needs_background": "light"
     },
     "output_type": "display_data"
    }
   ],
   "source": [
    "avgDiffBars = (system_avg_ch6_hb_propensities[1] - system_avg_ch6_hb_propensities[0])\n",
    "semDiffBars = sqrt(system_sem_ch6_hb_propensities[1]**2 + system_sem_ch6_hb_propensities[0]**2)\n",
    "colors =[]\n",
    "\n",
    "for i in range(len(avgDiffBars)):\n",
    "    if avgDiffBars[i] > 0:\n",
    "        colors.append([1.,1-(avgDiffBars[i]/max(abs(avgDiffBars))),1-(avgDiffBars[i]/max(abs(avgDiffBars)))])\n",
    "    if avgDiffBars[i] <=0:\n",
    "        colors.append([1-(-avgDiffBars[i]/max(abs(avgDiffBars))),1-(-avgDiffBars[i]/max(abs(avgDiffBars))),1.])\n",
    "        \n",
    "# get significant only\n",
    "avgSignifBars=copy(avgDiffBars)\n",
    "semSignifBars=copy(semDiffBars)\n",
    "for i in range(len(avgDiffBars)):\n",
    "    \n",
    "    if abs(semDiffBars[i]) > abs(avgDiffBars[i]):\n",
    "        avgSignifBars[i] = 0\n",
    "        semSignifBars[i] = 0        \n",
    "        \n",
    "       \n",
    "        \n",
    "\n",
    "        \n",
    "figure(figsize = (16,10))\n",
    "\n",
    "bar(arange(-4.5,238.5,1)[:-1]+.5,avgSignifBars,color = colors,edgecolor= 'black')\n",
    "errorbar(arange(-4.5,238.5,1)[:-1]+.5,avgSignifBars,semSignifBars,fmt=\".\",markersize = 0.01,linewidth = 1, color = \"black\")\n",
    "xlabel(\"Residue ID\")\n",
    "ylabel(\"Propensity Difference\")\n",
    "title(\"Number of Atoms in Contact Propensity Difference: PEG - H2O (significant only)\") \n"
   ]
  },
  {
   "cell_type": "code",
   "execution_count": null,
   "id": "23f087ec",
   "metadata": {},
   "outputs": [],
   "source": []
  }
 ],
 "metadata": {
  "kernelspec": {
   "display_name": "mdaenv",
   "language": "python",
   "name": "mdaenv"
  },
  "language_info": {
   "codemirror_mode": {
    "name": "ipython",
    "version": 3
   },
   "file_extension": ".py",
   "mimetype": "text/x-python",
   "name": "python",
   "nbconvert_exporter": "python",
   "pygments_lexer": "ipython3",
   "version": "3.10.5"
  }
 },
 "nbformat": 4,
 "nbformat_minor": 5
}
